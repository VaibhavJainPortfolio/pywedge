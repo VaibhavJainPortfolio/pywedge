{
 "cells": [
  {
   "cell_type": "code",
   "execution_count": 1,
   "metadata": {},
   "outputs": [],
   "source": [
    "import pywedge as pw"
   ]
  },
  {
   "cell_type": "code",
   "execution_count": 2,
   "metadata": {},
   "outputs": [],
   "source": [
    "import pandas as pd\n",
    "train  = pd.read_csv(\"https://raw.githubusercontent.com/taknev83/datasets/master/Train_house_price_prediction_regression.csv\" )\n",
    "test = pd.read_csv('https://raw.githubusercontent.com/taknev83/datasets/master/Test__house_price_prediction_regression.csv')"
   ]
  },
  {
   "cell_type": "markdown",
   "metadata": {},
   "source": [
    "#### Instantiate Pywedge_Charts \n",
    "\n",
    "The Pywedge_Charts class takes following inputs,\n",
    "\n",
    "Inputs:\n",
    "\n",
    "Dataframe\n",
    "c = any redundant column to be removed (like ID column etc., at present supports a single column removal, subsequent version will provision multiple column removal requirements)\n",
    "y = target column name as a string\n",
    "\n",
    "Returns:\n",
    "\n",
    "Charts widget"
   ]
  },
  {
   "cell_type": "code",
   "execution_count": 3,
   "metadata": {},
   "outputs": [],
   "source": [
    "mc = pw.Pywedge_Charts(train, c=None, y = 'TARGET(PRICE_IN_LACS)')"
   ]
  },
  {
   "cell_type": "markdown",
   "metadata": {},
   "source": [
    "#### Call make_charts method from the instantiated class"
   ]
  },
  {
   "cell_type": "code",
   "execution_count": 4,
   "metadata": {},
   "outputs": [
    {
     "data": {
      "application/vnd.jupyter.widget-view+json": {
       "model_id": "0d049717277f47cf9f2a302dbb5ce290",
       "version_major": 2,
       "version_minor": 0
      },
      "text/plain": [
       "HTML(value='<h2>Pywedge Make_Charts </h2>')"
      ]
     },
     "metadata": {},
     "output_type": "display_data"
    },
    {
     "data": {
      "application/vnd.jupyter.widget-view+json": {
       "model_id": "d05ea0cf66c14449955f5f9403af7aba",
       "version_major": 2,
       "version_minor": 0
      },
      "text/plain": [
       "Tab(children=(Output(), Output(), Output(), Output(), Output(), Output(), Output(), Output()), _titles={'0': '…"
      ]
     },
     "metadata": {},
     "output_type": "display_data"
    }
   ],
   "source": [
    "charts = mc.make_charts()"
   ]
  },
  {
   "cell_type": "markdown",
   "metadata": {},
   "source": [
    "##### Instantiate baseline_model class\n",
    "\n",
    "Args:\n",
    "\n",
    "train = train dataframe\n",
    "\n",
    "test = test dataframe\n",
    "\n",
    "c = any redundant column to be removed (like ID column etc., at present supports a single column removal, subsequent version will provision multiple column removal requirements)\n",
    "\n",
    "y = target column name as a string\n",
    "\n",
    "type = Classification(Default) / Regression"
   ]
  },
  {
   "cell_type": "code",
   "execution_count": 5,
   "metadata": {},
   "outputs": [],
   "source": [
    "blm = pw.baseline_model(train, test, c='ADDRESS', y='TARGET(PRICE_IN_LACS)', type=\"Regression\")"
   ]
  },
  {
   "cell_type": "markdown",
   "metadata": {},
   "source": [
    "##### call Regression_Summary method for Regression type of tasks\n",
    "\n",
    "Returns:\n",
    "\n",
    "1) Interactive pre-processing steps\n",
    "\n",
    "2) User input for test size in train test split\n",
    "\n",
    "3) Top 10 feature importance using Adaboost regressor\n",
    "\n",
    "4) Baseline models in 10 different algorithms with metrics\n",
    "\n",
    "5) Predict selected baseline models on standout test dataset"
   ]
  },
  {
   "cell_type": "code",
   "execution_count": 6,
   "metadata": {},
   "outputs": [
    {
     "data": {
      "application/vnd.jupyter.widget-view+json": {
       "model_id": "7d1d58d54dfc44ae976b12f19fbe4186",
       "version_major": 2,
       "version_minor": 0
      },
      "text/plain": [
       "HTML(value='<h2>Pywedge Baseline Models </h2>')"
      ]
     },
     "metadata": {},
     "output_type": "display_data"
    },
    {
     "data": {
      "application/vnd.jupyter.widget-view+json": {
       "model_id": "31919e1c7a064dfb9245198a6e04761b",
       "version_major": 2,
       "version_minor": 0
      },
      "text/plain": [
       "Tab(children=(Output(), Output()), _titles={'0': 'Baseline Models', '1': 'Predict Baseline Model'})"
      ]
     },
     "metadata": {},
     "output_type": "display_data"
    }
   ],
   "source": [
    "blm.Regression_summary()"
   ]
  },
  {
   "cell_type": "markdown",
   "metadata": {},
   "source": [
    "#### Instantiate Pywedge_HP Class for interactive hyperparameter tuning\n",
    "\n",
    "Args:\n",
    "\n",
    "train = train dataframe\n",
    "\n",
    "test = test dataframe\n",
    "\n",
    "c = any redundant column to be removed (like ID column etc., at present supports a single column removal, subsequent version will provision multiple column removal requirements)\n",
    "\n",
    "y = target column name as a string\n",
    "\n",
    "tracking = True/False(Default) #to enable mlflow hyperpameter tracking"
   ]
  },
  {
   "cell_type": "code",
   "execution_count": 7,
   "metadata": {},
   "outputs": [],
   "source": [
    "pph = pw.Pywedge_HP(train, test, c='ADDRESS', y='TARGET(PRICE_IN_LACS)', tracking=True)"
   ]
  },
  {
   "cell_type": "markdown",
   "metadata": {},
   "source": [
    "#### Call HP_Tune_Regression for regression hyperparameter tuning tasks\n",
    "\n",
    "Returns:\n",
    "\n",
    "1) Interactive widget for inputing various hyperparameters\n",
    "\n",
    "2) Output tab with tuned model results\n",
    "\n",
    "3) Predictions on standout test data using tuned model"
   ]
  },
  {
   "cell_type": "code",
   "execution_count": 8,
   "metadata": {},
   "outputs": [
    {
     "data": {
      "application/vnd.jupyter.widget-view+json": {
       "model_id": "e4a74971b50c45a5aed2390f8bfeaaee",
       "version_major": 2,
       "version_minor": 0
      },
      "text/plain": [
       "Tab(children=(Output(), Output()), _titles={'0': 'Input', '1': 'Output'})"
      ]
     },
     "metadata": {},
     "output_type": "display_data"
    }
   ],
   "source": [
    "pph.HP_Tune_Regression()"
   ]
  },
  {
   "cell_type": "markdown",
   "metadata": {},
   "source": [
    "#### This below piece of code is maximise the display in Jupyer Notebook "
   ]
  },
  {
   "cell_type": "code",
   "execution_count": 9,
   "metadata": {},
   "outputs": [
    {
     "data": {
      "text/html": [
       "<style>.container {width:100% !important; }</style"
      ],
      "text/plain": [
       "<IPython.core.display.HTML object>"
      ]
     },
     "metadata": {},
     "output_type": "display_data"
    }
   ],
   "source": [
    "from IPython.core.display import display, HTML\n",
    "display(HTML(\"<style>.container {width:100% !important; }</style\"))"
   ]
  },
  {
   "cell_type": "code",
   "execution_count": null,
   "metadata": {},
   "outputs": [],
   "source": []
  }
 ],
 "metadata": {
  "kernelspec": {
   "display_name": "Python 3",
   "language": "python",
   "name": "python3"
  },
  "language_info": {
   "codemirror_mode": {
    "name": "ipython",
    "version": 3
   },
   "file_extension": ".py",
   "mimetype": "text/x-python",
   "name": "python",
   "nbconvert_exporter": "python",
   "pygments_lexer": "ipython3",
   "version": "3.7.6"
  }
 },
 "nbformat": 4,
 "nbformat_minor": 4
}
